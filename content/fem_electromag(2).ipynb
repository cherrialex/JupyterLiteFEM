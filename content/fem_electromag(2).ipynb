{
  "metadata": {
    "kernelspec": {
      "name": "python",
      "display_name": "Python (Pyodide)",
      "language": "python"
    },
    "language_info": {
      "codemirror_mode": {
        "name": "python",
        "version": 3
      },
      "file_extension": ".py",
      "mimetype": "text/x-python",
      "name": "python",
      "nbconvert_exporter": "python",
      "pygments_lexer": "ipython3",
      "version": "3.8"
    }
  },
  "nbformat_minor": 5,
  "nbformat": 4,
  "cells": [
    {
      "id": "22c05c3f-b09b-42fa-a267-da126f315c03",
      "cell_type": "code",
      "source": "import numpy as np\nfrom ngsolve import *\nfrom netgen.occ import *\nfrom netgen.meshing import MeshingParameters\nfrom ngsolve.webgui import Draw\n\nlbd = 1064e-3\nc0 = 3e14 # µm/s\nfreq = c0 / lbd\nmu0 = 4 * np.pi * 1e-1\neps0 = 1 / (mu0 * c0**2)\nomega = 2 * np.pi * freq\nk0 = omega / c0\n\nmu_r_air = 1.0\nmu_r_copper = 1.0\nsigma_copper = 5.8  # S/µm\neps_r_copper = 1 - 1j * sigma_copper / (omega * eps0)\neps_r_air = 1.0\n\nbase_x = 100  # en µm\nbase_y = 100\nbase_z = 30\nrect_x = 5\nrect_y = 100\nrect_z = 5\nspacing = 20\nnum_elements = int(base_x / (spacing + rect_x))\n\npml_thickness = 0\ntotal_x = 150\ntotal_y = 150\ntotal_z = 150\n\nfull_domain = Box(Pnt(-total_x / 2, -total_y / 2, -total_z / 2),\n                  Pnt(total_x / 2, total_y / 2, total_z / 2))\n\ninner_domain = Box(Pnt(-total_x / 2 + pml_thickness,\n                       -total_y / 2 + pml_thickness,\n                       -total_z / 2 + pml_thickness),\n                   Pnt(total_x / 2 - pml_thickness,\n                       total_y / 2 - pml_thickness,\n                       total_z / 2 - pml_thickness))\n\npml_region = full_domain - inner_domain\npml_region.mat(\"pml\")\n\nbase = Box(Pnt(-base_x / 2, -base_y / 2, -base_z / 2),\n           Pnt(base_x / 2, base_y / 2, base_z / 2))\n\ncopper_region = base\nfor i in range(num_elements):\n    current_x = -((num_elements - 1) * spacing) / 2 + i * spacing\n    grating_element = Box(Pnt(-rect_x / 2, -rect_y / 2, base_z / 2),\n                          Pnt(rect_x / 2, rect_y / 2, base_z / 2 + rect_z)).Move(Vec(current_x, 0, 0))\n    copper_region = copper_region + grating_element\n\ncopper_region.maxh = 5.0\ncopper_region.mat(\"copper\")\n\nair_region = inner_domain - copper_region\nair_region.mat(\"air\")\n\n# Glue all the regions together\ngeo = OCCGeometry(Glue([air_region, copper_region, pml_region]))\n\n# --- Mesh Generation ---\n# Set global mesh size\nmp = MeshingParameters(maxh=15.0)\n\n# Generate the mesh. The local maxh on the copper region will override the global maxh there.\nngmesh = geo.GenerateMesh(mp=mp)\nmesh = Mesh(ngmesh)\nprint(\"Mesh generated.\")\n\n# Draw the mesh to verify the result\nDraw(mesh)",
      "metadata": {
        "trusted": true
      },
      "outputs": [
        {
          "name": "stdout",
          "output_type": "stream",
          "text": "Mesh generated.\n"
        },
        {
          "output_type": "display_data",
          "data": {
            "text/plain": "WebGuiWidget(layout=Layout(height='50vh', width='100%'), value={'gui_settings': {}, 'ngsolve_version': '6.2.25…",
            "application/vnd.jupyter.widget-view+json": {
              "version_major": 2,
              "version_minor": 0,
              "model_id": "16a0301037f84ce3a9fdabf5be3e0f9b"
            }
          },
          "metadata": {}
        },
        {
          "execution_count": 1,
          "output_type": "execute_result",
          "data": {
            "text/plain": "BaseWebGuiScene"
          },
          "metadata": {}
        }
      ],
      "execution_count": 1
    },
    {
      "id": "88dd4d51-5e30-4b94-9a10-f8c5a5adff73",
      "cell_type": "code",
      "source": "mesh.SetPML(pml.Cartesian(mins = (-total_x/2, -total_y/2, -total_z/2),\n                          maxs = (total_x/2, total_y/2, total_z/2),\n                          alpha=1j*k0), \"pml\")\n\nfes = HCurl(mesh, order=2, complex=True)\n\nE_scat = fes.TrialFunction()\nv = fes.TestFunction()\n\nE_inc_coeff = CoefficientFunction( (1.0,0, 0) )\nE_inc = E_inc_coeff * exp(-1j * k0 * z)\nE_inc_curl = CoefficientFunction( (0, 1j * k0, 0) ) * exp(-1j * k0 * z)\n\nepscf = { \"air\": eps_r_air, \"copper\": eps_r_copper, \"pml\": eps_r_air }\nmucf = { \"air\": mu_r_air, \"copper\": mu_r_copper, \"pml\": mu_r_air }\n\nepsilon = mesh.MaterialCF(epscf, default=epscf[\"air\"])\nmu = mesh.MaterialCF(mucf, default=mucf[\"air\"])\n\na = BilinearForm(fes, symmetric=True)\na += (1/mu) * curl(E_scat) * curl(v) * dx\na += -k0**2 * epsilon * E_scat * v * dx\n\nf = LinearForm(fes)\nf += (k0**2 * (epsilon - eps_r_air)) * E_inc * v * dx(\"copper\")\nf += - (1/mu_r_air) * E_inc_curl * curl(v) * dx(\"air\")\nf += - (-k0**2 * eps_r_air) * E_inc * v * dx(\"air\")\nf += - (1/mu_r_air) * E_inc_curl * curl(v) * dx(\"pml\")\nf += - (-k0**2 * eps_r_air) * E_inc * v * dx(\"pml\")\n\ngfu_scat = GridFunction(fes, \"E_scat\")\n\nwith TaskManager():\n    print(\"Assembling matrices...\")\n    a.Assemble()\n    f.Assemble()\n    print(\"Solving linear system using an iterative solver...\")\n    preconditioner = a.mat.CreateSmoother(freedofs=fes.FreeDofs())\n    \n    solver = CGSolver(mat=a.mat, pre=preconditioner, printrates=True, maxsteps=2000)\n    \n    gfu_scat.vec.data = solver * f.vec\n    \n    print(\"Solution complete.\")\n\ngfu_total = GridFunction(fes, \"E_total\")\ngfu_total.Set(E_inc + gfu_scat)\n\nE_mag = Norm(gfu_total)\nDraw(E_mag, mesh, \"test\", material=\"copper\",clipping=True)\nDraw(gfu_total)\n",
      "metadata": {
        "trusted": true
      },
      "outputs": [
        {
          "name": "stdout",
          "output_type": "stream",
          "text": "Assembling matrices...\nSolving linear system using an iterative solver...\nSolution complete.\n"
        },
        {
          "output_type": "display_data",
          "data": {
            "text/plain": "WebGuiWidget(layout=Layout(height='50vh', width='100%'), value={'gui_settings': {}, 'ngsolve_version': '6.2.25…",
            "application/vnd.jupyter.widget-view+json": {
              "version_major": 2,
              "version_minor": 0,
              "model_id": "2f9506999fda4210bb632a8531854c06"
            }
          },
          "metadata": {}
        },
        {
          "output_type": "display_data",
          "data": {
            "text/plain": "WebGuiWidget(layout=Layout(height='50vh', width='100%'), value={'gui_settings': {'Complex': {'phase': 0.0, 'sp…",
            "application/vnd.jupyter.widget-view+json": {
              "version_major": 2,
              "version_minor": 0,
              "model_id": "097bd7dccdeb443096809ba21e9c3987"
            }
          },
          "metadata": {}
        },
        {
          "execution_count": 2,
          "output_type": "execute_result",
          "data": {
            "text/plain": "BaseWebGuiScene"
          },
          "metadata": {}
        }
      ],
      "execution_count": 2
    },
    {
      "id": "8cab3455-29f0-4d78-b818-9e7fbe9d7b1c",
      "cell_type": "code",
      "source": "\n",
      "metadata": {
        "trusted": true
      },
      "outputs": [],
      "execution_count": null
    }
  ]
}