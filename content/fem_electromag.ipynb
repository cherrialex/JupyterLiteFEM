{
  "metadata": {
    "kernelspec": {
      "name": "python",
      "display_name": "Python (Pyodide)",
      "language": "python"
    },
    "language_info": {
      "codemirror_mode": {
        "name": "python",
        "version": 3
      },
      "file_extension": ".py",
      "mimetype": "text/x-python",
      "name": "python",
      "nbconvert_exporter": "python",
      "pygments_lexer": "ipython3",
      "version": "3.8"
    }
  },
  "nbformat_minor": 5,
  "nbformat": 4,
  "cells": [
    {
      "id": "22c05c3f-b09b-42fa-a267-da126f315c03",
      "cell_type": "code",
      "source": "import numpy as np\nfrom ngsolve import *\nfrom netgen.occ import *\nfrom netgen.meshing import MeshingParameters\nfrom ngsolve.webgui import Draw\n\nlbd = 1064e-9\nc0 = 3e8  \nfreq = c0/lbd\nmu0 = 4 * np.pi * 1e-7\neps0 = 1 / (mu0 * c0**2)\nomega = 2 * np.pi * freq\nk0 = omega / c0\n\nmu_r_air = 1.0\nmu_r_copper = 1.0\nsigma_copper = 5.8e7  # S/m\neps_r_copper = 1 - 1j * sigma_copper / (omega * eps0)\neps_r_air = 1.0\n\nbase_x = 100e-6  # en m\nbase_y = 100e-6 \nbase_z = 100e-6 \nrect_x = 5e-6 \nrect_y = 100e-6  \nrect_z = 5e-6  \nspacing = 20e-6 \nnum_elements = int(base_x/(spacing + rect_x))  \n\npml_thickness = 50e-6\ntotal_x = 150e-6\ntotal_y = 150e-6\ntotal_z = 150e-6\n\nprint(\"creating geometry\") \nfull_domain = Box(Pnt(-total_x/2, -total_y/2, -total_z/2), Pnt(total_x/2, total_y/2, total_z/2))\n\ninner_domain = Box(Pnt(-total_x/2 + pml_thickness, -total_y/2 + pml_thickness, -total_z/2 + pml_thickness),\n                   Pnt(total_x/2 - pml_thickness, total_y/2 - pml_thickness, total_z/2 - pml_thickness))\npml_region = full_domain - inner_domain\npml_region.mat(\"pml\")\n\ngrating_shapes = []\n\nbase = Box(Pnt(-base_x/2, -base_y/2, 0), Pnt(base_x/2, base_y/2, base_z))\ngrating_shapes.append(base)\n\nstart_x = -((num_elements - 1) * spacing) / 2\nfor i in range(num_elements):\n    current_x = start_x + i * spacing\n    grating_element = Box(Pnt(-rect_x/2, -rect_y/2, base_z), Pnt(rect_x/2, rect_y/2, base_z + rect_z)).Move(Vec(current_x, 0, 0))\n    grating_shapes.append(grating_element)\ngrating_region = Glue(grating_shapes)\ngrating_region.mat(\"copper\")\n\nair_region = inner_domain - grating_region\nair_region.mat(\"air\")\n\ngeo = OCCGeometry(Glue([air_region, grating_region,pml_region]))\nmp = MeshingParameters(maxh=1e-5)\nngmesh = geo.GenerateMesh(mp=mp)\nmesh = Mesh(ngmesh)\nprint(\"mesh generated\") ",
      "metadata": {
        "trusted": true
      },
      "outputs": [
        {
          "name": "stdout",
          "output_type": "stream",
          "text": "creating geometry\nmesh generated\n"
        }
      ],
      "execution_count": 1
    },
    {
      "id": "88dd4d51-5e30-4b94-9a10-f8c5a5adff73",
      "cell_type": "code",
      "source": "mesh.SetPML(pml.Cartesian(mins = (-total_x/2, -total_y/2, -total_z/2),\n                          maxs = (total_x/2, total_y/2, total_z/2),\n                          alpha=1j*k0), \"pml\")\n\nfes = HCurl(mesh, order=2, complex=True)\n\nE_scat = fes.TrialFunction()\nv = fes.TestFunction()\nE_inc_coeff = CoefficientFunction( (0, 1.0, 0) )\nE_inc = E_inc_coeff * exp(-1j * k0 * z)\n\nE_inc_curl = CoefficientFunction( (1j * k0, 0, 0) ) * exp(-1j * k0 * z)\n\nepscf = { \"air\": eps_r_air, \"copper\": eps_r_copper, \"pml\": eps_r_air }\nmucf = { \"air\": mu_r_air, \"copper\": mu_r_copper, \"pml\": mu_r_air }\n\nepsilon = mesh.MaterialCF(epscf, default=epscf[\"air\"])\nmu = mesh.MaterialCF(mucf, default=mucf[\"air\"])\n\na = BilinearForm(fes, symmetric=True)\na += (1/mu) * curl(E_scat) * curl(v) * dx\na += -k0**2 * epsilon * E_scat * v * dx\n\nf = LinearForm(fes)\nf += (k0**2 * (epsilon - eps_r_air)) * E_inc * v * dx(\"copper\")\nf += - (1/mu_r_air) * E_inc_curl * curl(v) * dx(\"air\")\nf += - (-k0**2 * eps_r_air) * E_inc * v * dx(\"air\")\nf += - (1/mu_r_air) * E_inc_curl * curl(v) * dx(\"pml\")\nf += - (-k0**2 * eps_r_air) * E_inc * v * dx(\"pml\")\n\ngfu_scat = GridFunction(fes, \"E_scat\")\n\nwith TaskManager():\n    print(\"Assembling matrices...\")\n    a.Assemble()\n    f.Assemble()\n    print(\"Solving linear system using an iterative solver...\")\n    preconditioner = a.mat.CreateSmoother(freedofs=fes.FreeDofs())\n    \n    solver = CGSolver(mat=a.mat, pre=preconditioner, printrates=True, maxsteps=2000)\n    \n    gfu_scat.vec.data = solver * f.vec\n    \n    print(\"Solution complete.\")\n\ngfu_total = GridFunction(fes, \"E_total\")\ngfu_total.Set(E_inc + gfu_scat)\n\n\nE_mag = Norm(gfu_total)\nDraw(E_mag,mesh,name=\"test\")\nDraw(gfu_total)\n",
      "metadata": {
        "trusted": true
      },
      "outputs": [
        {
          "name": "stdout",
          "output_type": "stream",
          "text": "Assembling matrices...\nSolving linear system using an iterative solver...\nSolution complete.\n"
        },
        {
          "output_type": "display_data",
          "data": {
            "text/plain": "WebGuiWidget(layout=Layout(height='50vh', width='100%'), value={'gui_settings': {}, 'ngsolve_version': '6.2.25…",
            "application/vnd.jupyter.widget-view+json": {
              "version_major": 2,
              "version_minor": 0,
              "model_id": "c65629c7472c43b088ab85528e3cbf96"
            }
          },
          "metadata": {}
        },
        {
          "output_type": "display_data",
          "data": {
            "text/plain": "WebGuiWidget(layout=Layout(height='50vh', width='100%'), value={'gui_settings': {'Complex': {'phase': 0.0, 'sp…",
            "application/vnd.jupyter.widget-view+json": {
              "version_major": 2,
              "version_minor": 0,
              "model_id": "b197ed8694454885ac8f9f23dfc9fdb0"
            }
          },
          "metadata": {}
        },
        {
          "execution_count": 2,
          "output_type": "execute_result",
          "data": {
            "text/plain": "BaseWebGuiScene"
          },
          "metadata": {}
        }
      ],
      "execution_count": 2
    },
    {
      "id": "8cab3455-29f0-4d78-b818-9e7fbe9d7b1c",
      "cell_type": "code",
      "source": "\n",
      "metadata": {
        "trusted": true
      },
      "outputs": [],
      "execution_count": null
    }
  ]
}