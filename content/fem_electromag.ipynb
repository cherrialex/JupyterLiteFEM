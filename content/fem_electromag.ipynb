{
  "metadata": {
    "kernelspec": {
      "name": "python",
      "display_name": "Python (Pyodide)",
      "language": "python"
    },
    "language_info": {
      "codemirror_mode": {
        "name": "python",
        "version": 3
      },
      "file_extension": ".py",
      "mimetype": "text/x-python",
      "name": "python",
      "nbconvert_exporter": "python",
      "pygments_lexer": "ipython3",
      "version": "3.8"
    }
  },
  "nbformat_minor": 5,
  "nbformat": 4,
  "cells": [
    {
      "id": "26d9889a-4870-4f6e-9e61-85a81d800c06",
      "cell_type": "code",
      "source": "import numpy as np\nfrom ngsolve import *\nfrom netgen.occ import *\nfrom netgen.meshing import MeshingParameters\n\n# --- 1. Define Parameters and Materials ---\n\n# Physical Constants\nfreq = 5e9  # 5 GHz\nc0 = 299792458.0  # speed of light in vacuum\nmu0 = 4 * np.pi * 1e-7\neps0 = 1 / (mu0 * c0**2)\nomega = 2 * np.pi * freq\nk0 = omega / c0\n\n# Material Properties\nmu_r_air = 1.0\nmu_r_copper = 1.0\nsigma_copper = 5.8e7  # S/m\neps_r_copper = 1 - 1j * sigma_copper / (omega * eps0)\neps_r_air = 1.0\n\n# Grating dimensions\nbase_x = 0.05  # 50 mm\nbase_y = 0.001 # 1 mm\nbase_z = 0.001 # 1 mm\nrect_x = 0.005 # 5 mm\nrect_y = 0.01  # 10 mm\nrect_z = 0.01  # 10 mm\nspacing = 0.012 # 12 mm\nnum_elements = 5\n\n# Domain and PML dimensions (chosen to be large enough)\npml_thickness = 0.02\ntotal_x = 0.1\ntotal_y = 0.02\ntotal_z = 0.05\n\n# --- 2. Create Geometry ---\nprint(\"creating geometry\") \n# Full domain including PML\nfull_domain = Box(Pnt(-total_x/2, -total_y/2, -total_z/2), Pnt(total_x/2, total_y/2, total_z/2))\n\n# Inner box (non-PML region)\ninner_domain = Box(Pnt(-total_x/2 + pml_thickness, -total_y/2 + pml_thickness, -total_z/2 + pml_thickness),\n                   Pnt(total_x/2 - pml_thickness, total_y/2 - pml_thickness, total_z/2 - pml_thickness))\n\n# Define the PML region as a volume object\npml_region = full_domain - inner_domain\npml_region.mat(\"pml\")\n\ngrating_shapes = []\n\n# Add the base plate to the list\nbase = Box(Pnt(-base_x/2, -base_y/2, 0), Pnt(base_x/2, base_y/2, base_z))\ngrating_shapes.append(base)\n\nstart_x = -((num_elements - 1) * spacing) / 2\nfor i in range(num_elements):\n    current_x = start_x + i * spacing\n    # Use a translation to place the grating element at the correct x position\n    # The fix is here: change Pnt to Vec\n    grating_element = Box(Pnt(-rect_x/2, -rect_y/2, base_z), Pnt(rect_x/2, rect_y/2, base_z + rect_z)).Move(Vec(current_x, 0, 0))\n    grating_shapes.append(grating_element)\n\n# Perform a single Glue operation (union) on the list\ngrating_region = Glue(grating_shapes)\ngrating_region.mat(\"copper\")\n\n# Subtract the grating from the inner air domain\nair_region = inner_domain - grating_region\nair_region.mat(\"air\")\n\n# Glue all distinct material regions together\ngeo = OCCGeometry(Glue([air_region, grating_region,pml_region]))\n\n# --- 3. Generate Mesh and Set PML ---\nmp = MeshingParameters(maxh=0.002)\nngmesh = geo.GenerateMesh(mp=mp)\nmesh = Mesh(ngmesh)\nprint(\"mesh generated\") ",
      "metadata": {
        "trusted": true
      },
      "outputs": [
        {
          "name": "stdout",
          "output_type": "stream",
          "text": "creating geometry\nmesh generated\n"
        }
      ],
      "execution_count": 1
    },
    {
      "id": "9d76d81e-c586-4e7b-8a84-494f09ba4ebc",
      "cell_type": "code",
      "source": "\n# Now, with the PML region explicitly defined, we can set the PML transformation\nmesh.SetPML(pml.Cartesian(mins = (-total_x/2, -total_y/2, -total_z/2),\n                          maxs = (total_x/2, total_y/2, total_z/2),\n                          alpha=1j*k0), \"pml\")\n\n# --- 4. Define Finite Element Space ---\nfes = HCurl(mesh, order=2, complex=True)\n\n# --- 5. Define Total Field and Scattered Field ---\nE_scat = fes.TrialFunction()\nv = fes.TestFunction()\n# Incident Plane Wave (E-field polarized in y-direction, propagating in z-direction)\nE_inc_coeff = CoefficientFunction( (0, 1.0, 0) )\nE_inc = E_inc_coeff * exp(-1j * k0 * z)\n\n# Manually define the curl of the incident field\nE_inc_curl = CoefficientFunction( (1j * k0, 0, 0) ) * exp(-1j * k0 * z)\n\n# --- 6. Define Coefficients and Bilinear Form ---\nepscf = { \"air\": eps_r_air, \"copper\": eps_r_copper, \"pml\": eps_r_air }\nmucf = { \"air\": mu_r_air, \"copper\": mu_r_copper, \"pml\": mu_r_air }\n\nepsilon = mesh.MaterialCF(epscf, default=epscf[\"air\"])\nmu = mesh.MaterialCF(mucf, default=mucf[\"air\"])\n\na = BilinearForm(fes, symmetric=True)\na += (1/mu) * curl(E_scat) * curl(v) * dx\na += -k0**2 * epsilon * E_scat * v * dx\n\nf = LinearForm(fes)\nf += (k0**2 * (epsilon - eps_r_air)) * E_inc * v * dx(\"copper\")\nf += - (1/mu_r_air) * E_inc_curl * curl(v) * dx(\"air\")\nf += - (-k0**2 * eps_r_air) * E_inc * v * dx(\"air\")\nf += - (1/mu_r_air) * E_inc_curl * curl(v) * dx(\"pml\")\nf += - (-k0**2 * eps_r_air) * E_inc * v * dx(\"pml\")\n\n# --- 7. Solve and Post-process ---\ngfu_scat = GridFunction(fes, \"E_scat\")\n\n# Solve\nwith TaskManager():\n    print(\"Assembling matrices...\")\n    a.Assemble()\n    f.Assemble()\n    print(\"Solving linear system using an iterative solver...\")\n    \n    # Create a preconditioner for the iterative solver\n    preconditioner = a.mat.CreateSmoother(freedofs=fes.FreeDofs())\n    \n    # Create a Conjugate Gradient (CG) iterative solver\n    # The CG solver uses the preconditioner to accelerate convergence\n    solver = CGSolver(mat=a.mat, pre=preconditioner, printrates=True, maxsteps=2000)\n    \n    # Solve the system by multiplying the solver with the linear form vector\n    gfu_scat.vec.data = solver * f.vec\n    \n    print(\"Solution complete.\")\n\n# Compute total field\ngfu_total = GridFunction(fes, \"E_total\")\ngfu_total.Set(E_inc + gfu_scat)\n\n# E-field magnitude visualization\nE_mag = Norm(gfu_total)\nDraw(E_mag,mesh)",
      "metadata": {
        "trusted": true,
        "scrolled": true
      },
      "outputs": [
        {
          "name": "stdout",
          "output_type": "stream",
          "text": "Assembling matrices...\nSolving linear system using an iterative solver...\nSolution complete.\n"
        },
        {
          "ename": "<class 'TypeError'>",
          "evalue": "Draw(): incompatible function arguments. The following argument types are supported:\n    1. (cf: ngsolve.fem.CoefficientFunction, mesh: ngsolve.comp.Mesh, name: str, sd: int = 2, autoscale: bool = True, min: float = 0.0, max: float = 1.0, draw_vol: bool = True, draw_surf: bool = True, reset: bool = False, title: str = '', number_format: str = '%.3e', unit: str = '', **kwargs) -> None\n    2. (gf: ngsolve.comp.GridFunction, sd: int = 2, autoscale: bool = True, min: float = 0.0, max: float = 1.0, **kwargs) -> None\n    3. (mesh: ngsolve.comp.Mesh, **kwargs) -> None\n    4. (arg0: object) -> None\n\nInvoked with: <ngsolve.fem.CoefficientFunction object at 0xc49bba8>, <ngsolve.comp.Mesh object at 0xd5b6358>",
          "traceback": [
            "\u001b[0;31m---------------------------------------------------------------------------\u001b[0m",
            "\u001b[0;31mTypeError\u001b[0m                                 Traceback (most recent call last)",
            "Cell \u001b[0;32mIn[2], line 65\u001b[0m\n\u001b[1;32m     63\u001b[0m \u001b[38;5;66;03m# E-field magnitude visualization\u001b[39;00m\n\u001b[1;32m     64\u001b[0m E_mag \u001b[38;5;241m=\u001b[39m Norm(gfu_total)\n\u001b[0;32m---> 65\u001b[0m \u001b[43mDraw\u001b[49m\u001b[43m(\u001b[49m\u001b[43mE_mag\u001b[49m\u001b[43m,\u001b[49m\u001b[43mmesh\u001b[49m\u001b[43m)\u001b[49m\n",
            "\u001b[0;31mTypeError\u001b[0m: Draw(): incompatible function arguments. The following argument types are supported:\n    1. (cf: ngsolve.fem.CoefficientFunction, mesh: ngsolve.comp.Mesh, name: str, sd: int = 2, autoscale: bool = True, min: float = 0.0, max: float = 1.0, draw_vol: bool = True, draw_surf: bool = True, reset: bool = False, title: str = '', number_format: str = '%.3e', unit: str = '', **kwargs) -> None\n    2. (gf: ngsolve.comp.GridFunction, sd: int = 2, autoscale: bool = True, min: float = 0.0, max: float = 1.0, **kwargs) -> None\n    3. (mesh: ngsolve.comp.Mesh, **kwargs) -> None\n    4. (arg0: object) -> None\n\nInvoked with: <ngsolve.fem.CoefficientFunction object at 0xc49bba8>, <ngsolve.comp.Mesh object at 0xd5b6358>"
          ],
          "output_type": "error"
        }
      ],
      "execution_count": 2
    },
    {
      "id": "c0bdcc7a-e817-44ac-b6a5-9371e9050f76",
      "cell_type": "code",
      "source": "",
      "metadata": {
        "trusted": true
      },
      "outputs": [],
      "execution_count": null
    }
  ]
}